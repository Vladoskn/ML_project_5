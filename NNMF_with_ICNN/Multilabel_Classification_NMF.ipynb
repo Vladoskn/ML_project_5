{
 "cells": [
  {
   "cell_type": "markdown",
   "metadata": {},
   "source": [
    "# NNMF with ICNN for multi-label classification"
   ]
  },
  {
   "cell_type": "markdown",
   "metadata": {},
   "source": [
    "## Imports"
   ]
  },
  {
   "cell_type": "code",
   "execution_count": 1,
   "metadata": {
    "colab": {},
    "colab_type": "code",
    "id": "RUi-qR1ypukp"
   },
   "outputs": [],
   "source": [
    "import csv\n",
    "import os\n",
    "import time\n",
    "import pickle as pkl\n",
    "import numpy as np\n",
    "from statistics import mean \n",
    "from sklearn.metrics import f1_score\n",
    "import torch\n",
    "import torch.autograd as autograd\n",
    "import torch.nn as nn\n",
    "import torch.nn.functional as F\n",
    "import torch.utils.data as torch_data\n",
    "import mca\n",
    "import pandas as pd\n",
    "from sklearn.decomposition import NMF\n",
    "import matplotlib.pyplot as plt"
   ]
  },
  {
   "cell_type": "markdown",
   "metadata": {},
   "source": [
    "## Working with dataset"
   ]
  },
  {
   "cell_type": "code",
   "execution_count": 2,
   "metadata": {
    "colab": {},
    "colab_type": "code",
    "id": "im_CgLBnpukt"
   },
   "outputs": [],
   "source": [
    "def _loadTxt(fName):\n",
    "    return np.loadtxt(fName, delimiter=',', skiprows=1, dtype=np.float32)\n",
    "\n",
    "def cache(dirPath):\n",
    "    cacheF = os.path.join(dirPath, 'cache.pkl')\n",
    "    if os.path.isfile(cacheF):\n",
    "        with open(cacheF, 'rb') as f:\n",
    "            return pkl.load(f)\n",
    "    return None\n",
    "\n",
    "def loadBibtex(dirPath):\n",
    "    cacheF = os.path.join(dirPath, 'cache.pkl')\n",
    "    d = cache(dirPath)\n",
    "    if d is None:\n",
    "        train = _loadTxt(os.path.join(dirPath, \"bibtex-train.csv\"))\n",
    "        trainX, trainY = np.split(train, [1836], axis=1)\n",
    "        test = _loadTxt(os.path.join(dirPath, \"bibtex-test.csv\"))\n",
    "        testX, testY = np.split(test, [1836], axis=1)\n",
    "        d = {'trainX': trainX, 'trainY': trainY,\n",
    "            'testX': testX, 'testY': testY}\n",
    "        with open(cacheF, 'wb') as f:\n",
    "            pkl.dump(d, f)\n",
    "\n",
    "    return d"
   ]
  },
  {
   "cell_type": "code",
   "execution_count": 3,
   "metadata": {
    "colab": {},
    "colab_type": "code",
    "id": "Ir4sis6xpukw"
   },
   "outputs": [],
   "source": [
    "data = loadBibtex(\"data/bibtex\")\n",
    "\n",
    "trainX = data['trainX']\n",
    "trainY = data['trainY']\n",
    "testX = data['testX']\n",
    "testY = data['testY']"
   ]
  },
  {
   "cell_type": "code",
   "execution_count": 4,
   "metadata": {
    "colab": {},
    "colab_type": "code",
    "id": "HfHwT8y5puk4"
   },
   "outputs": [],
   "source": [
    "tr_tstX = np.vstack((trainX,testX))\n",
    "tr_tstY = np.vstack((trainY,testY))\n",
    "tr_tstX_data = pd.DataFrame(tr_tstX)"
   ]
  },
  {
   "cell_type": "code",
   "execution_count": 5,
   "metadata": {
    "colab": {
     "base_uri": "https://localhost:8080/",
     "height": 204
    },
    "colab_type": "code",
    "id": "ZtUjtWOwpuk7",
    "outputId": "9ac826e8-1127-47f1-a65f-b06fe35c0675"
   },
   "outputs": [
    {
     "name": "stdout",
     "output_type": "stream",
     "text": [
      "Run MCA on selected columns of a pd DataFrame.\n",
      "\t\n",
      "\tIf the column are specified, assume that they hold\n",
      "\tcategorical variables that need to be replaced with\n",
      "\tdummy indicators, otherwise process the DataFrame as is.\n",
      "\n",
      "\t'cols': The columns of the DataFrame to process.\n",
      "\t'ncols': The number of columns before dummy coding. To be passed if cols isn't.\n",
      "\t'benzecri': Perform Benzécri correction (default: True)\n",
      "\t'TOL': value below which to round eigenvalues to zero (default: 1e-4)\n",
      "\t\n"
     ]
    }
   ],
   "source": [
    "mca_ben = mca.MCA(tr_tstX_data, ncols=420)\n",
    "print(mca.MCA.__doc__)"
   ]
  },
  {
   "cell_type": "code",
   "execution_count": 6,
   "metadata": {
    "colab": {},
    "colab_type": "code",
    "id": "ZmSXtF24puk-"
   },
   "outputs": [],
   "source": [
    "new_x = mca_ben.fs_r(1)\n",
    "trainX, testX = np.split(new_x, [4880], axis=0)\n",
    "trainY, testY = np.split(tr_tstY, [4880], axis=0)"
   ]
  },
  {
   "cell_type": "code",
   "execution_count": 7,
   "metadata": {
    "colab": {},
    "colab_type": "code",
    "id": "_SZoojKApulB"
   },
   "outputs": [],
   "source": [
    "input_dim = trainX.shape[1]\n",
    "output_dim = trainY.shape[1]\n",
    "batch_size_train = trainX.shape[0]//15\n",
    "batch_size_test = testX.shape[0]//10 \n",
    "\n",
    "hidden_layer_sizes=[135, 110]"
   ]
  },
  {
   "cell_type": "code",
   "execution_count": 8,
   "metadata": {
    "colab": {},
    "colab_type": "code",
    "id": "Klxsao1epulJ"
   },
   "outputs": [],
   "source": [
    "class BibtexData(torch_data.Dataset):\n",
    "    def __init__(self, X, y):\n",
    "        super(BibtexData, self).__init__()\n",
    "        self.X = torch.tensor(X, dtype=torch.float32)\n",
    "        self.y = torch.tensor(y, dtype=torch.float32)\n",
    "    \n",
    "    def __len__(self):\n",
    "        return self.X.shape[0]\n",
    "    \n",
    "    def __getitem__(self, idx):\n",
    "        return  self.X[idx], self.y[idx]"
   ]
  },
  {
   "cell_type": "code",
   "execution_count": 9,
   "metadata": {
    "colab": {},
    "colab_type": "code",
    "id": "9-64Ou-kpulL"
   },
   "outputs": [],
   "source": [
    "train_dset = BibtexData(trainX, trainY) \n",
    "test_dset = BibtexData(testX, testY) "
   ]
  },
  {
   "cell_type": "markdown",
   "metadata": {},
   "source": [
    "## ICNN"
   ]
  },
  {
   "cell_type": "code",
   "execution_count": 10,
   "metadata": {
    "colab": {},
    "colab_type": "code",
    "id": "S1LihTJapulO"
   },
   "outputs": [],
   "source": [
    "class ConvexLayer(nn.Module):\n",
    "    __constants__ = ['input_features', 'output_features', 'weight', 'bias']\n",
    "\n",
    "    def __init__(self, input_features, output_features, W, H, bias=False, nmf=False):\n",
    "        super(ConvexLayer, self).__init__()\n",
    "        self.input_features = input_features\n",
    "        self.output_features = output_features\n",
    "        self.W = torch.Tensor(W)\n",
    "        self.H = torch.Tensor(H)\n",
    "        self.nmf = nmf\n",
    "        \n",
    "        self.weight = nn.Parameter(torch.Tensor(\n",
    "            torch.randn(output_features, input_features)\n",
    "        ))\n",
    "        if bias == True:\n",
    "            self.bias = nn.Parameter(torch.Tensor(output_features))\n",
    "        else:\n",
    "            self.register_parameter('bias', None)\n",
    "\n",
    "    def forward(self, input):\n",
    "        if self.nmf == True:\n",
    "            output = F.linear(input, self.H)\n",
    "            linear = F.linear(output, self.W, self.bias)\n",
    "        else:\n",
    "            linear = F.linear(input, self.weight, self.bias)\n",
    "        return linear"
   ]
  },
  {
   "cell_type": "code",
   "execution_count": 11,
   "metadata": {
    "colab": {},
    "colab_type": "code",
    "id": "pBwM4rZvpulR"
   },
   "outputs": [],
   "source": [
    "class DenseICNN(nn.Module):\n",
    "    def __init__(self, input_dim, output_dim,  hidden_layer_sizes, W, H, activation='celu', dropout=0.3, nmf=False):\n",
    "        super(DenseICNN, self).__init__()\n",
    "        \n",
    "        \n",
    "        self.hidden_layer_sizes = hidden_layer_sizes\n",
    "        self.droput = dropout\n",
    "        self.activation = activation\n",
    "\n",
    "        \n",
    "        self.quadratic_layers = nn.ModuleList([\n",
    "            nn.Sequential(\n",
    "                nn.Linear(input_dim, output_features, bias=True),\n",
    "                nn.Dropout(dropout))\n",
    "            for output_features in hidden_layer_sizes])\n",
    "        \n",
    "        sizes = zip(hidden_layer_sizes[:-1], hidden_layer_sizes[1:])\n",
    "        self.convex_layers = nn.ModuleList([\n",
    "            nn.Sequential(\n",
    "                ConvexLayer(input_features, output_features, W=W, H=H, bias=True, nmf=nmf),\n",
    "                nn.Dropout(dropout))\n",
    "            for (input_features, output_features) in sizes])\n",
    "        \n",
    "        self.final_layer = nn.Linear(hidden_layer_sizes[-1], output_dim, bias=True)\n",
    "        \n",
    "                        \n",
    "    def forward(self, input):\n",
    "        output = self.quadratic_layers[0](input)\n",
    "        for quadratic_layer, convex_layer in zip(self.quadratic_layers[1:], self.convex_layers):\n",
    "            output = convex_layer(output) + quadratic_layer(input)\n",
    "            if self.activation == 'celu':\n",
    "                output = torch.celu(output)\n",
    "        return self.final_layer(output)\n",
    "    \n",
    "    def convexify(self):\n",
    "        for layer in ICNN.convex_layers:\n",
    "            for sublayer in layer:\n",
    "                if (isinstance(sublayer, ConvexLayer)):\n",
    "                    sublayer.weight.data.clamp_(0)"
   ]
  },
  {
   "cell_type": "code",
   "execution_count": 12,
   "metadata": {
    "colab": {},
    "colab_type": "code",
    "id": "lqfWVfJFpulZ"
   },
   "outputs": [],
   "source": [
    "ICNN = DenseICNN(input_dim, output_dim,  hidden_layer_sizes, W=1, H=1, activation='celu') \n",
    "\n",
    "criterion = nn.MSELoss()\n",
    "optimizer = torch.optim.Adam(ICNN.parameters(), lr=0.003, weight_decay=1e-7) \n",
    "scheduler = torch.optim.lr_scheduler.StepLR(optimizer, step_size=100, gamma=0.8)\n",
    "\n",
    "\n",
    "train_loader = torch_data.DataLoader(train_dset, batch_size=batch_size_train, shuffle=True) \n",
    "test_loader = torch_data.DataLoader(test_dset, batch_size=batch_size_test, shuffle=False) "
   ]
  },
  {
   "cell_type": "markdown",
   "metadata": {},
   "source": [
    "## Training procedure"
   ]
  },
  {
   "cell_type": "code",
   "execution_count": 13,
   "metadata": {
    "colab": {},
    "colab_type": "code",
    "id": "ekn3RtKOpuli"
   },
   "outputs": [],
   "source": [
    "def train(epochs, ICNN, criterion, optimizer, train_loader, test_loader, scheduler=None, verbose=True, save_dir=None):\n",
    "    \n",
    "    for epoch in range(1, epochs+1):\n",
    "        f1 = []\n",
    "        ICNN.train()\n",
    "        for X, y in train_loader:\n",
    "           \n",
    "            y_out = ICNN(X)\n",
    "\n",
    "            loss = criterion(y, torch.sigmoid(y_out))\n",
    "            optimizer.zero_grad()\n",
    "            loss.backward()\n",
    "            optimizer.step()\n",
    "            ICNN.convexify()  \n",
    "            \n",
    "        ICNN.eval()\n",
    "        for X, y in test_loader:\n",
    "            \n",
    "            y_out = ICNN(X)\n",
    "\n",
    "            test_loss = criterion(y, torch.sigmoid(y_out))\n",
    "            predY_bin = (torch.sigmoid(y_out).detach().numpy() >= 0.5).astype(np.int)\n",
    "            trueY_bin = y.detach().numpy()\n",
    "            f1.append(f1_score(trueY_bin.T, predY_bin.T, average='macro', pos_label=None))\n",
    "            \n",
    "        if scheduler is not None:\n",
    "            scheduler.step()\n",
    "        freq = max(epochs//20,50)\n",
    "        if verbose and epoch%freq==0:\n",
    "            print('Epoch {}/{} || Loss:  Train {:.4f} | Validation {:.4f}'.format(epoch, epochs, loss.item(), test_loss.item()))\n",
    "            print('F1 score:', mean(f1))"
   ]
  },
  {
   "cell_type": "code",
   "execution_count": 14,
   "metadata": {
    "colab": {
     "base_uri": "https://localhost:8080/",
     "height": 357
    },
    "colab_type": "code",
    "id": "f_CPZRbgpulr",
    "outputId": "b71ea066-e217-4665-bffe-bd9b37e59854",
    "scrolled": true
   },
   "outputs": [
    {
     "name": "stdout",
     "output_type": "stream",
     "text": [
      "Epoch 50/500 || Loss:  Train 0.0098 | Validation 0.0051\n",
      "F1 score: 0.22165829663113257\n",
      "Epoch 100/500 || Loss:  Train 0.0083 | Validation 0.0050\n",
      "F1 score: 0.26815418400179836\n",
      "Epoch 150/500 || Loss:  Train 0.0066 | Validation 0.0042\n",
      "F1 score: 0.3052712975000184\n",
      "Epoch 200/500 || Loss:  Train 0.0106 | Validation 0.0052\n",
      "F1 score: 0.32320606931126294\n",
      "Epoch 250/500 || Loss:  Train 0.0077 | Validation 0.0051\n",
      "F1 score: 0.3396317914252368\n",
      "Epoch 300/500 || Loss:  Train 0.0147 | Validation 0.0052\n",
      "F1 score: 0.3506720283450682\n",
      "Epoch 350/500 || Loss:  Train 0.0051 | Validation 0.0060\n",
      "F1 score: 0.35391779059119266\n",
      "Epoch 400/500 || Loss:  Train 0.0110 | Validation 0.0053\n",
      "F1 score: 0.3564230884242703\n",
      "Epoch 450/500 || Loss:  Train 0.0031 | Validation 0.0061\n",
      "F1 score: 0.3538078616855376\n",
      "Epoch 500/500 || Loss:  Train 0.0054 | Validation 0.0053\n",
      "F1 score: 0.3626543644290837\n"
     ]
    }
   ],
   "source": [
    "train(500, ICNN, criterion, optimizer, train_loader, test_loader, scheduler)"
   ]
  },
  {
   "cell_type": "markdown",
   "metadata": {},
   "source": [
    "## NNMF with ICNN"
   ]
  },
  {
   "cell_type": "code",
   "execution_count": 15,
   "metadata": {
    "colab": {},
    "colab_type": "code",
    "id": "DVgYfskzpulz"
   },
   "outputs": [],
   "source": [
    "def NMF_time(ICNN, sample_loader):\n",
    "    time_ = []\n",
    "    for X, y in sample_loader:\n",
    "        start = time.time()\n",
    "        pred = ICNN(X)\n",
    "        end = time.time()\n",
    "        time_.append(end - start)\n",
    "    return time_"
   ]
  },
  {
   "cell_type": "code",
   "execution_count": 16,
   "metadata": {
    "colab": {},
    "colab_type": "code",
    "id": "N-jn05pepul9"
   },
   "outputs": [],
   "source": [
    "def NMF_score(ICNN, sample_loader):\n",
    "    for X, y in sample_loader:\n",
    "        y_out = ICNN(X)\n",
    "        predY_bin = (torch.sigmoid(y_out).detach().numpy() >= 0.55).astype(np.int)\n",
    "        trueY_bin = y.detach().numpy()\n",
    "    return f1_score(trueY_bin.T, predY_bin.T, average='macro', pos_label=None)"
   ]
  },
  {
   "cell_type": "code",
   "execution_count": 17,
   "metadata": {
    "colab": {
     "base_uri": "https://localhost:8080/",
     "height": 340
    },
    "colab_type": "code",
    "id": "p7Lu7ZHJvm9X",
    "outputId": "7ce91e6f-2c1b-4292-de77-d97e95885123"
   },
   "outputs": [],
   "source": [
    "percents = np.linspace(0.10, 1.0, 19)\n",
    "time1_ = []\n",
    "time2_ = []\n",
    "score1_ = []\n",
    "score2_ = []\n",
    "for percent in percents:\n",
    "    ICNN.eval()\n",
    "    model = NMF(n_components=int(percent*135), init='random', random_state=0)               \n",
    "    W = model.fit_transform(ICNN.convex_layers[0][0].weight.data.detach().numpy())\n",
    "    H = model.components_\n",
    "\n",
    "    sample_loader1 = torch_data.DataLoader(test_dset, batch_size=1, shuffle=False) \n",
    "    sample_loader2 = torch_data.DataLoader(test_dset, batch_size=test_dset[:][0].shape[0], shuffle=False)\n",
    "\n",
    "    ICNN_NMF = DenseICNN(input_dim, output_dim,  hidden_layer_sizes, W=W, H=H, activation='celu', nmf=True) \n",
    "    ICNN_NMF.eval()\n",
    "\n",
    "    ICNN_NMF.quadratic_layers[0][0].weight.data = ICNN.quadratic_layers[0][0].weight.data\n",
    "    ICNN_NMF.quadratic_layers[1][0].weight.data = ICNN.quadratic_layers[1][0].weight.data\n",
    "    ICNN_NMF.quadratic_layers[0][0].bias.data = ICNN.quadratic_layers[0][0].bias.data\n",
    "    ICNN_NMF.quadratic_layers[1][0].bias.data = ICNN.quadratic_layers[1][0].bias.data\n",
    "    ICNN_NMF.convex_layers[0][0].bias.data = ICNN.convex_layers[0][0].bias.data\n",
    "    ICNN_NMF.final_layer.weight.data = ICNN.final_layer.weight.data\n",
    "    ICNN_NMF.final_layer.bias.data = ICNN.final_layer.bias.data\n",
    "\n",
    "    time1 = NMF_time(ICNN, sample_loader1)\n",
    "    time2 = NMF_time(ICNN_NMF, sample_loader1)\n",
    "\n",
    "    score1 = NMF_score(ICNN, sample_loader2)\n",
    "    score2 = NMF_score(ICNN_NMF, sample_loader2)\n",
    "\n",
    "    time1_.append(np.sum(time1))\n",
    "    time2_.append(np.sum(time2))\n",
    "\n",
    "    score1_.append(score1)\n",
    "    score2_.append(score2)"
   ]
  },
  {
   "cell_type": "code",
   "execution_count": 18,
   "metadata": {
    "colab": {
     "base_uri": "https://localhost:8080/",
     "height": 334
    },
    "colab_type": "code",
    "id": "6ntyPC7Hx6NA",
    "outputId": "2d0fc871-7baf-4d44-a5e6-1fecf68d16f2"
   },
   "outputs": [
    {
     "data": {
      "image/png": "[encoded data removed]",
      "text/plain": [
       "<Figure size 720x432 with 1 Axes>"
      ]
     },
     "metadata": {
      "needs_background": "light"
     },
     "output_type": "display_data"
    }
   ],
   "source": [
    "f = plt.figure(figsize=(10,6))\n",
    "plt.plot(percents,score2_/score1)\n",
    "plt.xlabel('percent of the features used', fontsize=15)\n",
    "plt.ylabel('NNMF score/initial score', fontsize=15)\n",
    "plt.grid()\n",
    "f.savefig(\"score_NNMF.jpg\", bbox_inches='tight')"
   ]
  },
  {
   "cell_type": "code",
   "execution_count": 19,
   "metadata": {
    "colab": {
     "base_uri": "https://localhost:8080/",
     "height": 334
    },
    "colab_type": "code",
    "id": "158urOYQzZhk",
    "outputId": "a30079b8-7db1-4377-b5c4-b0bf4ec1c2c6"
   },
   "outputs": [
    {
     "data": {
      "image/png": "[encoded data removed]",
      "text/plain": [
       "<Figure size 720x432 with 1 Axes>"
      ]
     },
     "metadata": {
      "needs_background": "light"
     },
     "output_type": "display_data"
    }
   ],
   "source": [
    "f = plt.figure(figsize=(10,6))\n",
    "plt.plot(percents*100.0,np.array(time2_)/np.array(time1_))\n",
    "plt.xlabel('percent of the features used', fontsize=15)\n",
    "plt.ylabel('NNMF time/initial time', fontsize=15)\n",
    "plt.grid()\n",
    "f.savefig(\"time_NNMF.jpg\", bbox_inches='tight')"
   ]
  }
 ],
 "metadata": {
  "accelerator": "GPU",
  "colab": {
   "name": "Multilabel Classification_NMF.ipynb",
   "provenance": []
  },
  "kernelspec": {
   "display_name": "Python 3",
   "language": "python",
   "name": "python3"
  },
  "language_info": {
   "codemirror_mode": {
    "name": "ipython",
    "version": 3
   },
   "file_extension": ".py",
   "mimetype": "text/x-python",
   "name": "python",
   "nbconvert_exporter": "python",
   "pygments_lexer": "ipython3",
   "version": "3.7.6"
  }
 },
 "nbformat": 4,
 "nbformat_minor": 1
}
